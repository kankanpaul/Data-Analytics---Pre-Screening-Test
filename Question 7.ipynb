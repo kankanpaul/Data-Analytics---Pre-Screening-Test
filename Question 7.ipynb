{
 "cells": [
  {
   "cell_type": "code",
   "execution_count": 14,
   "id": "d4db4956",
   "metadata": {},
   "outputs": [],
   "source": [
    "import pandas as pd"
   ]
  },
  {
   "cell_type": "code",
   "execution_count": 26,
   "id": "b4ebc262",
   "metadata": {},
   "outputs": [],
   "source": [
    "# Read data from the text file\n",
    "with open(r'C:\\Users\\paulk\\Downloads\\data.txt', 'r') as file:\n",
    "    lines = file.readlines()\n",
    "\n",
    "# Split data into columns using the ';' separator\n",
    "data = [line.strip().split(';') for line in lines]\n",
    "column_headers = data[0]\n",
    "data_rows = data[1:]\n",
    "\n",
    "# Create a DataFrame \n",
    "df = pd.DataFrame(data_rows, columns=column_headers)"
   ]
  },
  {
   "cell_type": "code",
   "execution_count": 28,
   "id": "5484842e",
   "metadata": {},
   "outputs": [
    {
     "data": {
      "text/html": [
       "<div>\n",
       "<style scoped>\n",
       "    .dataframe tbody tr th:only-of-type {\n",
       "        vertical-align: middle;\n",
       "    }\n",
       "\n",
       "    .dataframe tbody tr th {\n",
       "        vertical-align: top;\n",
       "    }\n",
       "\n",
       "    .dataframe thead th {\n",
       "        text-align: right;\n",
       "    }\n",
       "</style>\n",
       "<table border=\"1\" class=\"dataframe\">\n",
       "  <thead>\n",
       "    <tr style=\"text-align: right;\">\n",
       "      <th></th>\n",
       "      <th>anonymous_id</th>\n",
       "      <th>business_zoned</th>\n",
       "      <th>context_app_version</th>\n",
       "      <th>context_device_id</th>\n",
       "      <th>context_os_name</th>\n",
       "      <th>event_name</th>\n",
       "      <th>received_at</th>\n",
       "      <th>created_at</th>\n",
       "    </tr>\n",
       "  </thead>\n",
       "  <tbody>\n",
       "    <tr>\n",
       "      <th>0</th>\n",
       "      <td>0\\t9DDC5BCD-0477-4E83-A32A-51013DA0A4E7</td>\n",
       "      <td>Hamburg</td>\n",
       "      <td>3.1.13</td>\n",
       "      <td>7A718FF6-584F-40E2-939D-224231295B1E</td>\n",
       "      <td>iOS</td>\n",
       "      <td>Out-Of-Business Zone View Shown</td>\n",
       "      <td>2020-09-01 23:59:44</td>\n",
       "      <td>2020-09-01 23:59:18</td>\n",
       "    </tr>\n",
       "    <tr>\n",
       "      <th>1</th>\n",
       "      <td>1\\t5592E78E-CE87-4258-B8D7-DD834A687A1E</td>\n",
       "      <td>Hamburg</td>\n",
       "      <td>3.1.13</td>\n",
       "      <td>11D0CB16-DA38-4565-9C3B-066E7877856C</td>\n",
       "      <td>iOS</td>\n",
       "      <td>Application Opened</td>\n",
       "      <td>2020-09-01 23:59:41</td>\n",
       "      <td>2020-09-01 23:59:35</td>\n",
       "    </tr>\n",
       "    <tr>\n",
       "      <th>2</th>\n",
       "      <td>2\\t5592E78E-CE87-4258-B8D7-DD834A687A1E</td>\n",
       "      <td>Hamburg</td>\n",
       "      <td>3.1.13</td>\n",
       "      <td>11D0CB16-DA38-4565-9C3B-066E7877856C</td>\n",
       "      <td>iOS</td>\n",
       "      <td>Ride Done - Successful</td>\n",
       "      <td>2020-09-01 23:59:41</td>\n",
       "      <td>2020-09-01 23:59:37</td>\n",
       "    </tr>\n",
       "    <tr>\n",
       "      <th>3</th>\n",
       "      <td>3\\t5592E78E-CE87-4258-B8D7-DD834A687A1E</td>\n",
       "      <td>Hamburg</td>\n",
       "      <td>3.1.13</td>\n",
       "      <td>11D0CB16-DA38-4565-9C3B-066E7877856C</td>\n",
       "      <td>iOS</td>\n",
       "      <td>Application Opened</td>\n",
       "      <td>2020-09-01 23:59:36</td>\n",
       "      <td>2020-09-01 23:37:46</td>\n",
       "    </tr>\n",
       "    <tr>\n",
       "      <th>4</th>\n",
       "      <td>4\\t5592E78E-CE87-4258-B8D7-DD834A687A1E</td>\n",
       "      <td>Hamburg</td>\n",
       "      <td>3.1.13</td>\n",
       "      <td>11D0CB16-DA38-4565-9C3B-066E7877856C</td>\n",
       "      <td>iOS</td>\n",
       "      <td>Ride Done - Unsuccessful</td>\n",
       "      <td>2020-09-01 23:59:36</td>\n",
       "      <td>2020-09-01 23:37:52</td>\n",
       "    </tr>\n",
       "  </tbody>\n",
       "</table>\n",
       "</div>"
      ],
      "text/plain": [
       "                              anonymous_id business_zoned context_app_version  \\\n",
       "0  0\\t9DDC5BCD-0477-4E83-A32A-51013DA0A4E7        Hamburg              3.1.13   \n",
       "1  1\\t5592E78E-CE87-4258-B8D7-DD834A687A1E        Hamburg              3.1.13   \n",
       "2  2\\t5592E78E-CE87-4258-B8D7-DD834A687A1E        Hamburg              3.1.13   \n",
       "3  3\\t5592E78E-CE87-4258-B8D7-DD834A687A1E        Hamburg              3.1.13   \n",
       "4  4\\t5592E78E-CE87-4258-B8D7-DD834A687A1E        Hamburg              3.1.13   \n",
       "\n",
       "                      context_device_id context_os_name  \\\n",
       "0  7A718FF6-584F-40E2-939D-224231295B1E             iOS   \n",
       "1  11D0CB16-DA38-4565-9C3B-066E7877856C             iOS   \n",
       "2  11D0CB16-DA38-4565-9C3B-066E7877856C             iOS   \n",
       "3  11D0CB16-DA38-4565-9C3B-066E7877856C             iOS   \n",
       "4  11D0CB16-DA38-4565-9C3B-066E7877856C             iOS   \n",
       "\n",
       "                        event_name          received_at           created_at  \n",
       "0  Out-Of-Business Zone View Shown  2020-09-01 23:59:44  2020-09-01 23:59:18  \n",
       "1               Application Opened  2020-09-01 23:59:41  2020-09-01 23:59:35  \n",
       "2           Ride Done - Successful  2020-09-01 23:59:41  2020-09-01 23:59:37  \n",
       "3               Application Opened  2020-09-01 23:59:36  2020-09-01 23:37:46  \n",
       "4         Ride Done - Unsuccessful  2020-09-01 23:59:36  2020-09-01 23:37:52  "
      ]
     },
     "execution_count": 28,
     "metadata": {},
     "output_type": "execute_result"
    }
   ],
   "source": [
    "df.head()"
   ]
  },
  {
   "cell_type": "code",
   "execution_count": 41,
   "id": "fe6565dc",
   "metadata": {},
   "outputs": [],
   "source": [
    "df.to_excel(r'C:\\Users\\paulk\\Downloads\\mydata.xlsx')"
   ]
  },
  {
   "cell_type": "code",
   "execution_count": 44,
   "id": "3fad2c27",
   "metadata": {},
   "outputs": [
    {
     "name": "stdout",
     "output_type": "stream",
     "text": [
      "% of sessions with an intention to book: 25.43%\n",
      "% of sessions with a successful booking: 6.53%\n"
     ]
    }
   ],
   "source": [
    "# Calculate the percentage of sessions with an intention to book\n",
    "intention_sessions = df[df['event_name'] == 'Application Opened'].shape[0]\n",
    "total_sessions = df['anonymous_id'].nunique()\n",
    "\n",
    "percentage_intention = (intention_sessions / total_sessions) * 100\n",
    "\n",
    "# Calculate the percentage of sessions with a successful booking\n",
    "successful_booking_sessions = df[df['event_name'] == 'Ride Started - Pre-Ride'].shape[0]\n",
    "percentage_successful_booking = (successful_booking_sessions / total_sessions) * 100\n",
    "\n",
    "print(f\"% of sessions with an intention to book: {percentage_intention:.2f}%\")\n",
    "print(f\"% of sessions with a successful booking: {percentage_successful_booking:.2f}%\")\n"
   ]
  },
  {
   "cell_type": "code",
   "execution_count": 45,
   "id": "d4d6e402",
   "metadata": {},
   "outputs": [],
   "source": [
    "# What determines, according to you, an intention to book?\n",
    "# Based on the provided data, an \"intention to book\" could be determined when the event \"Application Opened\" occurs.\n",
    "#This event could indicate that the user is interested in exploring the availability of scooters.\n",
    "\n",
    "# What are factors, according to you, determining a successful booking?\n",
    "# In the provided data, a \"successful booking\" could be determined by the occurrence of the \"Ride Started - Pre-Ride\" event.\n",
    "#This event likely indicates that the user successfully booked a ride.\n",
    "\n",
    "# Do you have any hypotheses after exploring this data? If yes, please add them.\n",
    "# Based on the data, we can formulate some hypotheses:\n",
    "\n",
    "# Hypothesis 1: Users who open the application frequently are more likely to engage in successful bookings.\n",
    "# Hypothesis 2: The gender and age of users might influence their intention to book and successful booking rates."
   ]
  },
  {
   "cell_type": "code",
   "execution_count": null,
   "id": "e9b5cf47",
   "metadata": {},
   "outputs": [],
   "source": []
  }
 ],
 "metadata": {
  "kernelspec": {
   "display_name": "Python 3 (ipykernel)",
   "language": "python",
   "name": "python3"
  },
  "language_info": {
   "codemirror_mode": {
    "name": "ipython",
    "version": 3
   },
   "file_extension": ".py",
   "mimetype": "text/x-python",
   "name": "python",
   "nbconvert_exporter": "python",
   "pygments_lexer": "ipython3",
   "version": "3.10.9"
  }
 },
 "nbformat": 4,
 "nbformat_minor": 5
}
